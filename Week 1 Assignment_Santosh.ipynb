{
 "cells": [
  {
   "cell_type": "code",
   "execution_count": 2,
   "metadata": {},
   "outputs": [
    {
     "name": "stdout",
     "output_type": "stream",
     "text": [
      "tHIS IS Me 123\n"
     ]
    }
   ],
   "source": [
    "input = 'This is mE 123'\n",
    "output =''\n",
    "for i in input:\n",
    "    if(ord(i)>=65 and ord(i)<=90):\n",
    "        output += chr(ord(i)+32)\n",
    "    elif(ord(i)>=97 and ord(i)<=122):\n",
    "          output +=chr(ord(i)-32)\n",
    "    else:\n",
    "          output +=chr(ord(i))\n",
    "print(output)"
   ]
  },
  {
   "cell_type": "code",
   "execution_count": 3,
   "metadata": {},
   "outputs": [
    {
     "name": "stdout",
     "output_type": "stream",
     "text": [
      "2\n"
     ]
    }
   ],
   "source": [
    "input = 'ABCDCDC'\n",
    "sub = 'CDC'\n",
    "count = 0\n",
    "a = len(input)\n",
    "for i in range(0, len(input)):\n",
    "    if input[i:i+len(sub)]==sub:\n",
    "        count += 1\n",
    "print(count)"
   ]
  },
  {
   "cell_type": "code",
   "execution_count": null,
   "metadata": {},
   "outputs": [],
   "source": []
  }
 ],
 "metadata": {
  "kernelspec": {
   "display_name": "Python 3",
   "language": "python",
   "name": "python3"
  },
  "language_info": {
   "codemirror_mode": {
    "name": "ipython",
    "version": 3
   },
   "file_extension": ".py",
   "mimetype": "text/x-python",
   "name": "python",
   "nbconvert_exporter": "python",
   "pygments_lexer": "ipython3",
   "version": "3.6.5"
  }
 },
 "nbformat": 4,
 "nbformat_minor": 2
}
